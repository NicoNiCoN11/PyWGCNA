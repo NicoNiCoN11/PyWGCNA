{
 "cells": [
  {
   "cell_type": "code",
   "execution_count": 1,
   "id": "05b462f2",
   "metadata": {},
   "outputs": [],
   "source": [
    "import anndata as ad"
   ]
  },
  {
   "cell_type": "code",
   "execution_count": null,
   "id": "49843603",
   "metadata": {},
   "outputs": [],
   "source": [
    "adata = ad.read_h5ad(\"/home/jiguo/data/data/anndata/pseudobulk_adata_20replicate.h5ad\")"
   ]
  },
  {
   "cell_type": "code",
   "execution_count": 3,
   "id": "60b57fe7",
   "metadata": {},
   "outputs": [
    {
     "name": "stdout",
     "output_type": "stream",
     "text": [
      "Metadata columns: ['condition', 'replicate', 'sample']\n",
      "Data types: condition    category\n",
      "replicate     float64\n",
      "sample         object\n",
      "dtype: object\n"
     ]
    }
   ],
   "source": [
    "print(\"Metadata columns:\", list(adata.obs.columns))\n",
    "print(\"Data types:\", adata.obs.dtypes)"
   ]
  },
  {
   "cell_type": "code",
   "execution_count": 5,
   "id": "30b2dba2",
   "metadata": {},
   "outputs": [
    {
     "data": {
      "text/plain": [
       "AnnData object with n_obs × n_vars = 24 × 14950\n",
       "    obs: 'condition', 'replicate', 'sample'\n",
       "    var: 'ensembl_gene_id', 'gene_name', 'in_jakobsen', 'mito', 'n_cells_by_counts', 'mean_counts', 'pct_dropout_by_counts', 'total_counts', 'n_cells', 'mean', 'std'\n",
       "    uns: 'log1p'"
      ]
     },
     "execution_count": 5,
     "metadata": {},
     "output_type": "execute_result"
    }
   ],
   "source": [
    "adata"
   ]
  },
  {
   "cell_type": "code",
   "execution_count": 4,
   "id": "5db8a9dd",
   "metadata": {},
   "outputs": [
    {
     "name": "stdout",
     "output_type": "stream",
     "text": [
      "Unique conditions: ['control', 'centrinone', 'wo-2h', 'wo-8h']\n",
      "Categories (4, object): ['control' < 'centrinone' < 'wo-2h' < 'wo-8h']\n",
      "Replicate range: 1.0 to 6.0\n",
      "Number of unique samples: 24\n",
      "Sample examples: ['control_6.0' 'control_2.0' 'control_4.0' 'control_1.0' 'control_5.0']\n"
     ]
    }
   ],
   "source": [
    "# Check unique values in each column\n",
    "print(\"Unique conditions:\", adata.obs['condition'].unique())\n",
    "print(\"Replicate range:\", adata.obs['replicate'].min(), \"to\", adata.obs['replicate'].max())\n",
    "print(\"Number of unique samples:\", adata.obs['sample'].nunique())\n",
    "print(\"Sample examples:\", adata.obs['sample'].unique()[:5])  # First 5 samples"
   ]
  },
  {
   "cell_type": "code",
   "execution_count": null,
   "id": "0657512e",
   "metadata": {},
   "outputs": [],
   "source": []
  }
 ],
 "metadata": {
  "kernelspec": {
   "display_name": "Python 3 (ipykernel)",
   "language": "python",
   "name": "python3"
  },
  "language_info": {
   "codemirror_mode": {
    "name": "ipython",
    "version": 3
   },
   "file_extension": ".py",
   "mimetype": "text/x-python",
   "name": "python",
   "nbconvert_exporter": "python",
   "pygments_lexer": "ipython3",
   "version": "3.10.4"
  }
 },
 "nbformat": 4,
 "nbformat_minor": 5
}
